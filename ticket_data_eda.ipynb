{
 "metadata": {
  "language_info": {
   "codemirror_mode": {
    "name": "ipython",
    "version": 3
   },
   "file_extension": ".py",
   "mimetype": "text/x-python",
   "name": "python",
   "nbconvert_exporter": "python",
   "pygments_lexer": "ipython3",
   "version": "3.8.5-final"
  },
  "orig_nbformat": 2,
  "kernelspec": {
   "name": "python3",
   "display_name": "Python 3.8.5 64-bit (conda)",
   "metadata": {
    "interpreter": {
     "hash": "31d71ad9aa39c0baf4bc22e91d63925c5e983cab7cde6637fe5e3e78156f7446"
    }
   }
  }
 },
 "nbformat": 4,
 "nbformat_minor": 2,
 "cells": [
  {
   "cell_type": "code",
   "execution_count": 41,
   "metadata": {},
   "outputs": [],
   "source": [
    "import numpy as np \n",
    "import tensorflow as tf \n",
    "import pandas as pd \n",
    "import seaborn as sns \n",
    "import matplotlib.pyplot as plt \n",
    "from bs4 import BeautifulSoup\n",
    "import spacy\n",
    "from tensorflow.keras import layers \n",
    "#import unidecode\n",
    "#from word2number import w2n\n",
    "#import pycontractions\n",
    "#import contractions \n"
   ]
  },
  {
   "cell_type": "code",
   "execution_count": 20,
   "metadata": {},
   "outputs": [],
   "source": [
    "data = pd.read_csv(r'D:\\project\\resnet_basics\\all_tickets.csv')\n",
    "#data['ticket_type'].plot(kind = 'hist')"
   ]
  },
  {
   "cell_type": "code",
   "execution_count": 21,
   "metadata": {},
   "outputs": [
    {
     "output_type": "stream",
     "name": "stdout",
     "text": [
      "<class 'pandas.core.frame.DataFrame'>\nRangeIndex: 48549 entries, 0 to 48548\nData columns (total 9 columns):\n #   Column            Non-Null Count  Dtype \n---  ------            --------------  ----- \n 0   title             47837 non-null  object\n 1   body              48549 non-null  object\n 2   ticket_type       48549 non-null  int64 \n 3   category          48549 non-null  int64 \n 4   sub_category1     48549 non-null  int64 \n 5   sub_category2     48549 non-null  int64 \n 6   business_service  48549 non-null  int64 \n 7   urgency           48549 non-null  int64 \n 8   impact            48549 non-null  int64 \ndtypes: int64(7), object(2)\nmemory usage: 3.3+ MB\nNone\n"
     ]
    }
   ],
   "source": [
    "print(data.info())"
   ]
  },
  {
   "source": [
    "# EXTRACTING REQUIRED VALUES"
   ],
   "cell_type": "markdown",
   "metadata": {}
  },
  {
   "cell_type": "code",
   "execution_count": 25,
   "metadata": {},
   "outputs": [
    {
     "output_type": "execute_result",
     "data": {
      "text/plain": [
       "                                   title  \\\n",
       "0                                    NaN   \n",
       "1                   connection with icon   \n",
       "2                   work experience user   \n",
       "3                 requesting for meeting   \n",
       "4  reset passwords for external accounts   \n",
       "\n",
       "                                                body  category  sub_category1  \\\n",
       "0  hi since recruiter lead permission approve req...         4              2   \n",
       "1  icon dear please setup icon per icon engineers...         6             22   \n",
       "2  work experience user hi work experience studen...         5             13   \n",
       "3  requesting meeting hi please help follow equip...         5             13   \n",
       "4  re expire days hi ask help update passwords co...         4              2   \n",
       "\n",
       "   sub_category1  urgency  \n",
       "0              2        3  \n",
       "1             22        3  \n",
       "2             13        3  \n",
       "3             13        3  \n",
       "4              2        3  "
      ],
      "text/html": "<div>\n<style scoped>\n    .dataframe tbody tr th:only-of-type {\n        vertical-align: middle;\n    }\n\n    .dataframe tbody tr th {\n        vertical-align: top;\n    }\n\n    .dataframe thead th {\n        text-align: right;\n    }\n</style>\n<table border=\"1\" class=\"dataframe\">\n  <thead>\n    <tr style=\"text-align: right;\">\n      <th></th>\n      <th>title</th>\n      <th>body</th>\n      <th>category</th>\n      <th>sub_category1</th>\n      <th>sub_category1</th>\n      <th>urgency</th>\n    </tr>\n  </thead>\n  <tbody>\n    <tr>\n      <th>0</th>\n      <td>NaN</td>\n      <td>hi since recruiter lead permission approve req...</td>\n      <td>4</td>\n      <td>2</td>\n      <td>2</td>\n      <td>3</td>\n    </tr>\n    <tr>\n      <th>1</th>\n      <td>connection with icon</td>\n      <td>icon dear please setup icon per icon engineers...</td>\n      <td>6</td>\n      <td>22</td>\n      <td>22</td>\n      <td>3</td>\n    </tr>\n    <tr>\n      <th>2</th>\n      <td>work experience user</td>\n      <td>work experience user hi work experience studen...</td>\n      <td>5</td>\n      <td>13</td>\n      <td>13</td>\n      <td>3</td>\n    </tr>\n    <tr>\n      <th>3</th>\n      <td>requesting for meeting</td>\n      <td>requesting meeting hi please help follow equip...</td>\n      <td>5</td>\n      <td>13</td>\n      <td>13</td>\n      <td>3</td>\n    </tr>\n    <tr>\n      <th>4</th>\n      <td>reset passwords for external accounts</td>\n      <td>re expire days hi ask help update passwords co...</td>\n      <td>4</td>\n      <td>2</td>\n      <td>2</td>\n      <td>3</td>\n    </tr>\n  </tbody>\n</table>\n</div>"
     },
     "metadata": {},
     "execution_count": 25
    }
   ],
   "source": [
    "df = data.loc[:, ['title','body','category','sub_category1','sub_category1','urgency',]].copy()\n",
    "df.head()"
   ]
  },
  {
   "cell_type": "code",
   "execution_count": 26,
   "metadata": {},
   "outputs": [
    {
     "output_type": "execute_result",
     "data": {
      "text/plain": [
       "48549"
      ]
     },
     "metadata": {},
     "execution_count": 26
    }
   ],
   "source": [
    "size = len(df)\n",
    "size"
   ]
  },
  {
   "source": [
    "# ADDING EXTRA COLUMN"
   ],
   "cell_type": "markdown",
   "metadata": {}
  },
  {
   "cell_type": "code",
   "execution_count": 27,
   "metadata": {},
   "outputs": [],
   "source": [
    "# \n",
    "df['department'] = np.random.randint(0,4,size=size)"
   ]
  },
  {
   "cell_type": "code",
   "execution_count": 28,
   "metadata": {},
   "outputs": [
    {
     "output_type": "execute_result",
     "data": {
      "text/plain": [
       "title            712\n",
       "body               0\n",
       "category           0\n",
       "sub_category1      0\n",
       "sub_category1      0\n",
       "urgency            0\n",
       "department         0\n",
       "dtype: int64"
      ]
     },
     "metadata": {},
     "execution_count": 28
    }
   ],
   "source": [
    "df.isna().sum()"
   ]
  },
  {
   "cell_type": "code",
   "execution_count": 29,
   "metadata": {},
   "outputs": [],
   "source": [
    "# taking care of null values\n",
    "df['title'] = df['title'].fillna(\"Value Missing\")"
   ]
  },
  {
   "cell_type": "code",
   "execution_count": 42,
   "metadata": {},
   "outputs": [],
   "source": [
    "def strip_html_tags(text): \n",
    "    \"\"\"remove html tags\"\"\" \n",
    "    soup = BeautifulSoup(text, \"html.parser\") \n",
    "    stripped_text = soup.get_text(separator=\" \") \n",
    "    return stripped_text \n",
    "\n",
    "def word2number(text):\n",
    "    help_dict = { \n",
    "    'one': '1', \n",
    "    'two': '2', \n",
    "    'three': '3', \n",
    "    'four': '4', \n",
    "    'five': '5', \n",
    "    'six': '6', \n",
    "    'seven': '7', \n",
    "    'eight': '8', \n",
    "    'nine': '9', \n",
    "    'zero' : '0'\n",
    "} \n",
    "\n",
    "    return  \" \".join([help_dict[word] for word in text.split() if word in help_dict])\n",
    "\n",
    "import nltk\n",
    "\n",
    "w_tokenizer = nltk.tokenize.WhitespaceTokenizer()\n",
    "lemmatizer = nltk.stem.WordNetLemmatizer()\n",
    "\n",
    "def lemmatize_text(text):\n",
    "    return \" \".join([lemmatizer.lemmatize(w) for w in w_tokenizer.tokenize(text)])\n",
    "\n",
    "# applying lemmatization\n",
    "df['title'] = df['title'].apply(lemmatize_text)\n",
    "df['body'] = df['body'].apply(lemmatize_text)\n",
    "\n"
   ]
  },
  {
   "cell_type": "code",
   "execution_count": 43,
   "metadata": {},
   "outputs": [],
   "source": [
    " from sklearn.feature_extraction.text import TfidfVectorizer \n",
    " from sklearn.feature_extraction import text \n",
    " mystopwords = text.ENGLISH_STOP_WORDS\n",
    " vectorizer_body = TfidfVectorizer(\n",
    "     strip_accents='ascii',\n",
    "     lowercase=True,\n",
    "     stop_words='english',\n",
    " )\n",
    " \n",
    " body = vectorizer_body.fit_transform(df['body']) \n",
    "\n",
    "\n",
    " vectorizer_title = TfidfVectorizer(\n",
    "     strip_accents='ascii',\n",
    "     lowercase=True,\n",
    "     stop_words=mystopwords\n",
    " )\n",
    " \n",
    " title = vectorizer_title.fit_transform(df['title'])\n",
    "\n",
    "\n"
   ]
  },
  {
   "cell_type": "code",
   "execution_count": 50,
   "metadata": {},
   "outputs": [
    {
     "output_type": "error",
     "ename": "NameError",
     "evalue": "name 'shape' is not defined",
     "traceback": [
      "\u001b[1;31m---------------------------------------------------------------------------\u001b[0m",
      "\u001b[1;31mNameError\u001b[0m                                 Traceback (most recent call last)",
      "\u001b[1;32m<ipython-input-50-8ae9a22b4037>\u001b[0m in \u001b[0;36m<module>\u001b[1;34m\u001b[0m\n\u001b[1;32m----> 1\u001b[1;33m \u001b[0mshape\u001b[0m\u001b[1;33m\u001b[0m\u001b[1;33m\u001b[0m\u001b[0m\n\u001b[0m",
      "\u001b[1;31mNameError\u001b[0m: name 'shape' is not defined"
     ]
    }
   ],
   "source": [
    "shape"
   ]
  },
  {
   "cell_type": "code",
   "execution_count": 44,
   "metadata": {},
   "outputs": [
    {
     "output_type": "execute_result",
     "data": {
      "text/plain": [
       "       category  sub_category1  sub_category1  sub_category1  sub_category1\n",
       "0             4              2              2              2              2\n",
       "1             6             22             22             22             22\n",
       "2             5             13             13             13             13\n",
       "3             5             13             13             13             13\n",
       "4             4              2              2              2              2\n",
       "...         ...            ...            ...            ...            ...\n",
       "48544         4             21             21             21             21\n",
       "48545         4              9              9              9              9\n",
       "48546         5             32             32             32             32\n",
       "48547         4             21             21             21             21\n",
       "48548         4             51             51             51             51\n",
       "\n",
       "[48549 rows x 5 columns]"
      ],
      "text/html": "<div>\n<style scoped>\n    .dataframe tbody tr th:only-of-type {\n        vertical-align: middle;\n    }\n\n    .dataframe tbody tr th {\n        vertical-align: top;\n    }\n\n    .dataframe thead th {\n        text-align: right;\n    }\n</style>\n<table border=\"1\" class=\"dataframe\">\n  <thead>\n    <tr style=\"text-align: right;\">\n      <th></th>\n      <th>category</th>\n      <th>sub_category1</th>\n      <th>sub_category1</th>\n      <th>sub_category1</th>\n      <th>sub_category1</th>\n    </tr>\n  </thead>\n  <tbody>\n    <tr>\n      <th>0</th>\n      <td>4</td>\n      <td>2</td>\n      <td>2</td>\n      <td>2</td>\n      <td>2</td>\n    </tr>\n    <tr>\n      <th>1</th>\n      <td>6</td>\n      <td>22</td>\n      <td>22</td>\n      <td>22</td>\n      <td>22</td>\n    </tr>\n    <tr>\n      <th>2</th>\n      <td>5</td>\n      <td>13</td>\n      <td>13</td>\n      <td>13</td>\n      <td>13</td>\n    </tr>\n    <tr>\n      <th>3</th>\n      <td>5</td>\n      <td>13</td>\n      <td>13</td>\n      <td>13</td>\n      <td>13</td>\n    </tr>\n    <tr>\n      <th>4</th>\n      <td>4</td>\n      <td>2</td>\n      <td>2</td>\n      <td>2</td>\n      <td>2</td>\n    </tr>\n    <tr>\n      <th>...</th>\n      <td>...</td>\n      <td>...</td>\n      <td>...</td>\n      <td>...</td>\n      <td>...</td>\n    </tr>\n    <tr>\n      <th>48544</th>\n      <td>4</td>\n      <td>21</td>\n      <td>21</td>\n      <td>21</td>\n      <td>21</td>\n    </tr>\n    <tr>\n      <th>48545</th>\n      <td>4</td>\n      <td>9</td>\n      <td>9</td>\n      <td>9</td>\n      <td>9</td>\n    </tr>\n    <tr>\n      <th>48546</th>\n      <td>5</td>\n      <td>32</td>\n      <td>32</td>\n      <td>32</td>\n      <td>32</td>\n    </tr>\n    <tr>\n      <th>48547</th>\n      <td>4</td>\n      <td>21</td>\n      <td>21</td>\n      <td>21</td>\n      <td>21</td>\n    </tr>\n    <tr>\n      <th>48548</th>\n      <td>4</td>\n      <td>51</td>\n      <td>51</td>\n      <td>51</td>\n      <td>51</td>\n    </tr>\n  </tbody>\n</table>\n<p>48549 rows × 5 columns</p>\n</div>"
     },
     "metadata": {},
     "execution_count": 44
    }
   ],
   "source": [
    "# extracting tags\n",
    "tags = df.loc[:,['category','sub_category1','sub_category1']]\n",
    "tags"
   ]
  },
  {
   "cell_type": "code",
   "execution_count": 45,
   "metadata": {},
   "outputs": [],
   "source": [
    "from sklearn.preprocessing import OneHotEncoder\n",
    "enc = OneHotEncoder()\n",
    "tags = enc.fit_transform(tags)\n"
   ]
  },
  {
   "cell_type": "code",
   "execution_count": 59,
   "metadata": {},
   "outputs": [],
   "source": [
    "priority = tf.keras.utils.to_categorical(df['urgency'])\n",
    "department = tf.keras.utils.to_categorical(df['department'])"
   ]
  },
  {
   "cell_type": "code",
   "execution_count": 56,
   "metadata": {},
   "outputs": [],
   "source": [
    "title = tf.keras.Input(shape=(size,), name = 'title')\n",
    "text_body = tf.keras.Input(shape=(size,), name = 'body') \n",
    "tags = tf.keras.Input(shape=(size,), name = 'tags')\n",
    "\n",
    "features = layers.Concatenate()([title, text_body, tags])\n",
    "batch_normalization = layers.BatchNormalization()(features)\n",
    "\n",
    "features = layers.Dense(512, activation = 'relu')(batch_normalization)\n",
    "batch_normalization = layers.BatchNormalization()(features)\n",
    "dropout = layers.Dropout(0.3)(batch_normalization)\n",
    "\n",
    "features = layers.Dense(512, activation = 'relu')(dropout)\n",
    "batch_normalization = layers.BatchNormalization()(features)\n",
    "dropout = layers.Dropout(0.3)(batch_normalization)\n",
    "\n",
    "features = layers.Dense(512, activation = 'relu')(dropout)\n",
    "batch_normalization = layers.BatchNormalization()(features)\n",
    "dropout = layers.Dropout(0.3)(batch_normalization)\n",
    " \n",
    "\n"
   ]
  },
  {
   "cell_type": "code",
   "execution_count": 58,
   "metadata": {},
   "outputs": [],
   "source": []
  },
  {
   "cell_type": "code",
   "execution_count": null,
   "metadata": {},
   "outputs": [],
   "source": []
  }
 ]
}